{
 "cells": [
  {
   "cell_type": "markdown",
   "id": "25a0fd1c-26db-4379-b29d-012ba29ec339",
   "metadata": {},
   "source": [
    "## Install necessary libraries needed"
   ]
  },
  {
   "cell_type": "code",
   "execution_count": null,
   "id": "9a803964-5029-476d-9b90-f23fe6375310",
   "metadata": {},
   "outputs": [],
   "source": [
    "pip install psycopg2 faker"
   ]
  },
  {
   "cell_type": "markdown",
   "id": "5bd5e802-7d1b-408d-9297-3a4df1f1bab9",
   "metadata": {},
   "source": [
    "<h2>1. Import Necessary Libraries needed</h2>"
   ]
  },
  {
   "cell_type": "code",
   "execution_count": 1,
   "id": "46588c81-8b71-43c3-b487-125d8571ee83",
   "metadata": {},
   "outputs": [],
   "source": [
    "import psycopg2\n",
    "from faker import Faker\n",
    "import random\n",
    "from datetime import datetime, timedelta"
   ]
  },
  {
   "cell_type": "markdown",
   "id": "94962aee-3749-4dcd-ae1a-deb3079479ce",
   "metadata": {},
   "source": [
    "<h2>Note: I created a .py file that contains my aiven credentials</h2>"
   ]
  },
  {
   "cell_type": "code",
   "execution_count": 4,
   "id": "c2d1065d-52bb-4235-9792-2e426a66948b",
   "metadata": {},
   "outputs": [],
   "source": [
    "import aiven_credentials"
   ]
  },
  {
   "cell_type": "code",
   "execution_count": 6,
   "id": "082974d9-ed5c-49cb-97da-86cac9191eef",
   "metadata": {},
   "outputs": [],
   "source": [
    "my_user = aiven_credentials.user\n",
    "my_password = aiven_credentials.password\n",
    "my_host = aiven_credentials.host\n",
    "my_port = aiven_credentials.port"
   ]
  },
  {
   "cell_type": "markdown",
   "id": "b8a596c9-4ec1-4955-b0f4-8c1dd7a65dd9",
   "metadata": {},
   "source": [
    "<h2>2. Create a connection to your database using aiven credential details</h2>"
   ]
  },
  {
   "cell_type": "code",
   "execution_count": 11,
   "id": "69c9b15d-9ce1-4d06-bcab-34c17976dec4",
   "metadata": {},
   "outputs": [],
   "source": [
    "conn = psycopg2.connect(\n",
    "    dbname=\"defaultdb\",\n",
    "    user=my_user[0],\n",
    "    password=my_password[0],\n",
    "    host = my_host[0],\n",
    "    port=my_port\n",
    ")\n",
    "cursor = conn.cursor()\n",
    "fake = Faker()"
   ]
  },
  {
   "cell_type": "markdown",
   "id": "1c134b2a-be66-4e4c-938c-cd53e6259426",
   "metadata": {},
   "source": [
    "<h2>3. Populated your tables using dummy data</h2>"
   ]
  },
  {
   "cell_type": "code",
   "execution_count": 13,
   "id": "1e97c19a-b826-4a8d-902b-813fe15fab9e",
   "metadata": {},
   "outputs": [
    {
     "name": "stdout",
     "output_type": "stream",
     "text": [
      "Database populated successfully.\n"
     ]
    }
   ],
   "source": [
    "# Insert instructors\n",
    "instructor_ids = []\n",
    "for _ in range(5):\n",
    "    fn, ln = fake.first_name(), fake.last_name()\n",
    "    email = f\"{fn.lower()}.{ln.lower()}@university.edu\"\n",
    "    cursor.execute(\"\"\"\n",
    "        INSERT INTO instructors (first_name, last_name, email)\n",
    "        VALUES (%s, %s, %s) RETURNING instructor_id;\n",
    "    \"\"\", (fn, ln, email))\n",
    "    instructor_ids.append(cursor.fetchone()[0])\n",
    "\n",
    "# Insert courses\n",
    "course_ids = []\n",
    "for _ in range(10):\n",
    "    course_name = fake.job()\n",
    "    desc = fake.text(max_nb_chars=100)\n",
    "    instructor_id = random.choice(instructor_ids)\n",
    "    cursor.execute(\"\"\"\n",
    "        INSERT INTO courses (course_name, course_description, instructor_id)\n",
    "        VALUES (%s, %s, %s) RETURNING course_id;\n",
    "    \"\"\", (course_name, desc, instructor_id))\n",
    "    course_ids.append(cursor.fetchone()[0])\n",
    "\n",
    "# Insert students\n",
    "student_ids = []\n",
    "for _ in range(30):\n",
    "    fn, ln = fake.first_name(), fake.last_name()\n",
    "    email = f\"{fn.lower()}.{ln.lower()}@student.edu\"\n",
    "    dob = fake.date_of_birth(minimum_age=18, maximum_age=35)\n",
    "    cursor.execute(\"\"\"\n",
    "        INSERT INTO students (first_name, last_name, email, date_of_birth)\n",
    "        VALUES (%s, %s, %s, %s) RETURNING student_id;\n",
    "    \"\"\", (fn, ln, email, dob))\n",
    "    student_ids.append(cursor.fetchone()[0])\n",
    "\n",
    "# Insert enrollments\n",
    "grades = ['A', 'B', 'C', 'D', 'F']\n",
    "for _ in range(50):\n",
    "    student_id = random.choice(student_ids)\n",
    "    course_id = random.choice(course_ids)\n",
    "    enroll_date = fake.date_between(start_date='-1y', end_date='today')\n",
    "    grade = random.choice(grades)\n",
    "    cursor.execute(\"\"\"\n",
    "        INSERT INTO enrollments (student_id, course_id, enrollment_date, grade)\n",
    "        VALUES (%s, %s, %s, %s);\n",
    "    \"\"\", (student_id, course_id, enroll_date, grade))\n",
    "\n",
    "# Commit and close\n",
    "conn.commit()\n",
    "cursor.close()\n",
    "conn.close()\n",
    "\n",
    "print(\"Database populated successfully.\")"
   ]
  },
  {
   "cell_type": "code",
   "execution_count": null,
   "id": "b961065f-952d-4a9f-99b4-b756e0b39438",
   "metadata": {},
   "outputs": [],
   "source": []
  }
 ],
 "metadata": {
  "kernelspec": {
   "display_name": "Python 3 (ipykernel)",
   "language": "python",
   "name": "python3"
  },
  "language_info": {
   "codemirror_mode": {
    "name": "ipython",
    "version": 3
   },
   "file_extension": ".py",
   "mimetype": "text/x-python",
   "name": "python",
   "nbconvert_exporter": "python",
   "pygments_lexer": "ipython3",
   "version": "3.12.4"
  }
 },
 "nbformat": 4,
 "nbformat_minor": 5
}
